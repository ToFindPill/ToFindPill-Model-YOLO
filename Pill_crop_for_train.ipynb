{
 "cells": [
  {
   "cell_type": "code",
   "execution_count": null,
   "id": "a295cfad",
   "metadata": {},
   "outputs": [],
   "source": [
    "# 데이터셋 생성을 위해 이미지 크롭하는 코드"
   ]
  },
  {
   "cell_type": "code",
   "execution_count": 4,
   "id": "2ccdb820",
   "metadata": {},
   "outputs": [],
   "source": [
    "import os\n",
    "import json\n",
    "from PIL import Image\n",
    "\n",
    "# 경로 설정\n",
    "a_path = '/data_2/ace_minjae/yolo_project/dataset/for_crop_image'  # 이미지 경로\n",
    "b_path = '/data_2/ace_minjae/yolo_project/dataset/for_crop_label'  # json 경로\n",
    "c_path = '/data_2/ace_minjae/yolo_project/crop_dataset'  # 새로운 폴더 경로\n",
    "\n",
    "# 모든 폴더와 파일을 순회\n",
    "for folder_name in os.listdir(a_path):\n",
    "    folder_path = os.path.join(a_path, folder_name)\n",
    "    if os.path.isdir(folder_path):\n",
    "        # /c에 새로운 폴더 생성\n",
    "        c_folder_path = os.path.join(c_path, folder_name)\n",
    "        os.makedirs(c_folder_path, exist_ok=True)\n",
    "        \n",
    "        for file_name in os.listdir(folder_path):\n",
    "            if file_name.endswith('.png'):\n",
    "                png_file_path = os.path.join(folder_path, file_name)\n",
    "                json_folder_path = os.path.join(b_path, folder_name + '_json')\n",
    "                json_file_path = os.path.join(json_folder_path, file_name.replace('.png', '.json'))\n",
    "                \n",
    "                if os.path.exists(json_file_path):\n",
    "                    with open(json_file_path, 'r') as f:\n",
    "                        data = json.load(f)\n",
    "                        \n",
    "                        # 이미지 파일 이름을 통해 이미지 id 찾기\n",
    "                        image_id = None\n",
    "                        for image in data['images']:\n",
    "                            if image['file_name'] == file_name:\n",
    "                                image_id = image['id']\n",
    "                                break\n",
    "                        \n",
    "                        if image_id is not None:\n",
    "                            # bounding box 정보 추출\n",
    "                            for annotation in data['annotations']:\n",
    "                                if annotation['image_id'] == image_id:\n",
    "                                    bbox = annotation['bbox']\n",
    "                                    x, y, width, height = bbox\n",
    "                                    # 이미지 열기\n",
    "                                    with Image.open(png_file_path) as img:\n",
    "                                        # 이미지 crop\n",
    "                                        cropped_img = img.crop((x, y, x + width, y + height))\n",
    "                                        # crop된 이미지 저장\n",
    "                                        cropped_img.save(os.path.join(c_folder_path, file_name))\n",
    "                        else:\n",
    "                            print(f\"Image ID not found for {file_name} in {json_file_path}\")\n",
    "                else:\n",
    "                    print(f\"JSON file not found for {png_file_path}\")\n"
   ]
  }
 ],
 "metadata": {
  "kernelspec": {
   "display_name": "Python 3",
   "language": "python",
   "name": "python3"
  },
  "language_info": {
   "codemirror_mode": {
    "name": "ipython",
    "version": 3
   },
   "file_extension": ".py",
   "mimetype": "text/x-python",
   "name": "python",
   "nbconvert_exporter": "python",
   "pygments_lexer": "ipython3",
   "version": "3.9.18"
  }
 },
 "nbformat": 4,
 "nbformat_minor": 5
}
